{
  "nbformat": 4,
  "nbformat_minor": 0,
  "metadata": {
    "colab": {
      "provenance": [],
      "authorship_tag": "ABX9TyOqUT9H7yvLPzne46jNxm0Z",
      "include_colab_link": true
    },
    "kernelspec": {
      "name": "python3",
      "display_name": "Python 3"
    },
    "language_info": {
      "name": "python"
    }
  },
  "cells": [
    {
      "cell_type": "markdown",
      "metadata": {
        "id": "view-in-github",
        "colab_type": "text"
      },
      "source": [
        "<a href=\"https://colab.research.google.com/github/AliciaFalconCaro/DABesselMotorDetection/blob/main/DAOT_QuadeAndNemenyiTests.ipynb\" target=\"_parent\"><img src=\"https://colab.research.google.com/assets/colab-badge.svg\" alt=\"Open In Colab\"/></a>"
      ]
    },
    {
      "cell_type": "code",
      "execution_count": null,
      "metadata": {
        "colab": {
          "base_uri": "https://localhost:8080/"
        },
        "id": "VmGnihsD5Knn",
        "outputId": "a21b7e9a-6aa7-4540-bb87-b1491057d151"
      },
      "outputs": [
        {
          "output_type": "stream",
          "name": "stdout",
          "text": [
            "Collecting scikit-posthocs\n",
            "  Downloading scikit_posthocs-0.10.0-py3-none-any.whl.metadata (5.8 kB)\n",
            "Requirement already satisfied: numpy in /usr/local/lib/python3.10/dist-packages (from scikit-posthocs) (1.26.4)\n",
            "Requirement already satisfied: scipy>=1.9.0 in /usr/local/lib/python3.10/dist-packages (from scikit-posthocs) (1.13.1)\n",
            "Requirement already satisfied: statsmodels in /usr/local/lib/python3.10/dist-packages (from scikit-posthocs) (0.14.4)\n",
            "Requirement already satisfied: pandas>=0.20.0 in /usr/local/lib/python3.10/dist-packages (from scikit-posthocs) (2.2.2)\n",
            "Requirement already satisfied: seaborn in /usr/local/lib/python3.10/dist-packages (from scikit-posthocs) (0.13.2)\n",
            "Requirement already satisfied: matplotlib in /usr/local/lib/python3.10/dist-packages (from scikit-posthocs) (3.8.0)\n",
            "Requirement already satisfied: python-dateutil>=2.8.2 in /usr/local/lib/python3.10/dist-packages (from pandas>=0.20.0->scikit-posthocs) (2.8.2)\n",
            "Requirement already satisfied: pytz>=2020.1 in /usr/local/lib/python3.10/dist-packages (from pandas>=0.20.0->scikit-posthocs) (2024.2)\n",
            "Requirement already satisfied: tzdata>=2022.7 in /usr/local/lib/python3.10/dist-packages (from pandas>=0.20.0->scikit-posthocs) (2024.2)\n",
            "Requirement already satisfied: contourpy>=1.0.1 in /usr/local/lib/python3.10/dist-packages (from matplotlib->scikit-posthocs) (1.3.0)\n",
            "Requirement already satisfied: cycler>=0.10 in /usr/local/lib/python3.10/dist-packages (from matplotlib->scikit-posthocs) (0.12.1)\n",
            "Requirement already satisfied: fonttools>=4.22.0 in /usr/local/lib/python3.10/dist-packages (from matplotlib->scikit-posthocs) (4.54.1)\n",
            "Requirement already satisfied: kiwisolver>=1.0.1 in /usr/local/lib/python3.10/dist-packages (from matplotlib->scikit-posthocs) (1.4.7)\n",
            "Requirement already satisfied: packaging>=20.0 in /usr/local/lib/python3.10/dist-packages (from matplotlib->scikit-posthocs) (24.1)\n",
            "Requirement already satisfied: pillow>=6.2.0 in /usr/local/lib/python3.10/dist-packages (from matplotlib->scikit-posthocs) (10.4.0)\n",
            "Requirement already satisfied: pyparsing>=2.3.1 in /usr/local/lib/python3.10/dist-packages (from matplotlib->scikit-posthocs) (3.2.0)\n",
            "Requirement already satisfied: patsy>=0.5.6 in /usr/local/lib/python3.10/dist-packages (from statsmodels->scikit-posthocs) (0.5.6)\n",
            "Requirement already satisfied: six in /usr/local/lib/python3.10/dist-packages (from patsy>=0.5.6->statsmodels->scikit-posthocs) (1.16.0)\n",
            "Downloading scikit_posthocs-0.10.0-py3-none-any.whl (33 kB)\n",
            "Installing collected packages: scikit-posthocs\n",
            "Successfully installed scikit-posthocs-0.10.0\n"
          ]
        }
      ],
      "source": [
        "pip install scikit-posthocs\n"
      ]
    },
    {
      "cell_type": "code",
      "source": [
        "import numpy as np\n",
        "from scipy.io import loadmat\n",
        "\n",
        "#DAOT ideal vs Competing Methods:\n",
        "mat_data = loadmat('Dataset1_SubGestures2-3Bessels_LOSOkfolds.mat')\n",
        "IdealDAOTModel = np.array(mat_data['ValAccuracy'])/100\n",
        "print(IdealDAOTModel.shape)\n",
        "\n",
        "#Competing Method 1: 2/3 DAOT\n",
        "mat_data = loadmat('Ablation_NO_DA_Dataset1_SubGestures2-3Bessels_LOSOkfolds.mat')\n",
        "DAOTModel2_3 = np.array(mat_data['ValAccuracy'])/100\n",
        "\n",
        "#Competing Method 1: EEGNet\n",
        "mat_data = loadmat('Ablation_NO_GC_Dataset1_SubGestures2-3Bessels_LOSOkfolds.mat')\n",
        "EEGNetModel = np.array(mat_data['ValAccuracy'])/100\n",
        "print(EEGNetModel.shape)\n",
        "\n",
        "#Competing Method 1: SCCNet\n",
        "mat_data = loadmat('Ablation_ReducedCNN_1Conv2D_Dataset1_SubGestures2-3Bessels_LOSOkfolds.mat')\n",
        "SCCNetModel = np.array(mat_data['ValAccuracy'])/100\n",
        "\n",
        "#Competing Method 1: SCCNet\n",
        "mat_data = loadmat('Ablation_ReducedCNN_2Filters_Dataset1_SubGestures2-3Bessels_LOSOkfolds.mat')\n",
        "SCCNetModelReduced = np.array(mat_data['ValAccuracy'])/100"
      ],
      "metadata": {
        "colab": {
          "base_uri": "https://localhost:8080/"
        },
        "id": "04Oejaoq5TJO",
        "outputId": "b348049b-f1f4-4dc5-8e6a-67411c19a69b"
      },
      "execution_count": null,
      "outputs": [
        {
          "output_type": "stream",
          "name": "stderr",
          "text": [
            "/usr/local/lib/python3.10/dist-packages/scipy/io/matlab/_mio.py:227: MatReadWarning: Duplicate variable name \"None\" in stream - replacing previous with new\n",
            "Consider mio5.varmats_from_mat to split file into single variable files\n",
            "  matfile_dict = MR.get_variables(variable_names)\n"
          ]
        },
        {
          "output_type": "stream",
          "name": "stdout",
          "text": [
            "(14, 1)\n",
            "(14, 1)\n"
          ]
        }
      ]
    },
    {
      "cell_type": "code",
      "source": [
        "# Combine the arrays into a single (14, 4) array\n",
        "combined_data = np.column_stack((IdealDAOTModel, DAOTModel2_3, EEGNetModel, SCCNetModel,SCCNetModelReduced))\n",
        "\n",
        "print(\"Combined Data Shape:\", combined_data.shape)  # Should output (14, 4)\n",
        "print(\"Combined Data:\\n\", combined_data)"
      ],
      "metadata": {
        "colab": {
          "base_uri": "https://localhost:8080/"
        },
        "id": "mZuzrGiD5Vl8",
        "outputId": "88b5edc9-2715-4a39-c489-6fa13841adb3"
      },
      "execution_count": null,
      "outputs": [
        {
          "output_type": "stream",
          "name": "stdout",
          "text": [
            "Combined Data Shape: (14, 5)\n",
            "Combined Data:\n",
            " [[0.7        0.1        0.8        0.78571426 0.5142857 ]\n",
            " [0.6        0.3        0.8        0.62857143 0.7       ]\n",
            " [0.8        0.2        0.9        0.7        0.8285714 ]\n",
            " [0.6142857  0.2        0.7        0.91428574 0.7714286 ]\n",
            " [0.8285714  0.         0.6        0.84285713 0.6       ]\n",
            " [0.64285713 0.         0.6        0.6        0.8       ]\n",
            " [0.8        0.3        0.7        0.7        0.84285713]\n",
            " [0.62857143 0.2        0.6        0.7        0.9       ]\n",
            " [0.6        0.1        0.6        0.8        0.5857143 ]\n",
            " [0.68571426 0.2        0.5        0.7        0.8       ]\n",
            " [0.7        0.         0.7        0.7        0.94285713]\n",
            " [0.8        0.2        0.9        0.5        0.35714287]\n",
            " [0.52857143 0.1        0.8        0.68571426 0.6       ]\n",
            " [0.81428574 0.         0.7        0.68571426 0.75714287]]\n"
          ]
        }
      ]
    },
    {
      "cell_type": "code",
      "source": [
        "import pandas as pd\n",
        "from scipy.stats import friedmanchisquare\n",
        "import scikit_posthocs as sp\n",
        "\n",
        "# Step 1: Rank the models within each fold\n",
        "ranked_data = np.apply_along_axis(lambda x: pd.Series(x).rank().values, axis=1, arr=combined_data)\n",
        "\n",
        "# Step 2: Calculate fold weights based on the differences of model ranks\n",
        "fold_means = np.mean(ranked_data, axis=1)\n",
        "fold_weights = np.abs(ranked_data - fold_means[:, None]).sum(axis=1)\n",
        "\n",
        "# Step 3: Calculate weighted ranks\n",
        "weighted_ranks = ranked_data * fold_weights[:, None]\n",
        "\n",
        "# Step 4: Compute Quade's test statistic\n",
        "# Average the weighted ranks for each model\n",
        "model_means = np.mean(weighted_ranks, axis=0)\n",
        "\n",
        "# Compute the mean of weighted ranks overall\n",
        "overall_mean = np.mean(weighted_ranks)\n",
        "\n",
        "# Quade's F-statistic formula\n",
        "ss_between = len(combined_data) * np.sum((model_means - overall_mean) ** 2)\n",
        "ss_within = np.sum((weighted_ranks - model_means) ** 2)\n",
        "quade_statistic = (ss_between / (combined_data.shape[1] - 1)) / (ss_within / (combined_data.size - combined_data.shape[1]))\n",
        "\n",
        "print(\"Quade Statistic:\", quade_statistic)\n",
        "\n",
        "# Step 5: Post-hoc tests if significant (pairwise comparisons)\n",
        "# Use Nemenyi test to find out which models differ if the Quade statistic is significant\n",
        "p_values = sp.posthoc_nemenyi_friedman(ranked_data)\n",
        "print(\"Post-hoc p-values (Nemenyi test):\\n\", p_values)"
      ],
      "metadata": {
        "colab": {
          "base_uri": "https://localhost:8080/"
        },
        "id": "cOhR83VW5YQs",
        "outputId": "39ae40e8-8121-4505-dfaa-5690fa093309"
      },
      "execution_count": null,
      "outputs": [
        {
          "output_type": "stream",
          "name": "stdout",
          "text": [
            "Quade Statistic: 16.27274185083678\n",
            "Post-hoc p-values (Nemenyi test):\n",
            "           0         1         2         3         4\n",
            "0  1.000000  0.001564  0.993602  0.993602  0.919248\n",
            "1  0.001564  1.000000  0.000278  0.000278  0.000041\n",
            "2  0.993602  0.000278  1.000000  1.000000  0.993602\n",
            "3  0.993602  0.000278  1.000000  1.000000  0.993602\n",
            "4  0.919248  0.000041  0.993602  0.993602  1.000000\n"
          ]
        }
      ]
    },
    {
      "cell_type": "markdown",
      "source": [
        "For the ablation study, we compare 4 ablated"
      ],
      "metadata": {
        "id": "z2Lxqh1NEkB_"
      }
    }
  ]
}